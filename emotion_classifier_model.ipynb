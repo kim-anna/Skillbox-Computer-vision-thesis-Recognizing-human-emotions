{
  "nbformat": 4,
  "nbformat_minor": 0,
  "metadata": {
    "colab": {
      "provenance": []
    },
    "kernelspec": {
      "name": "python3",
      "display_name": "Python 3"
    },
    "language_info": {
      "name": "python"
    }
  },
  "cells": [
    {
      "cell_type": "markdown",
      "source": [
        "### Подготовка. Установка и импорт необходимых библиотек"
      ],
      "metadata": {
        "id": "tZ0DIe4gccyi"
      }
    },
    {
      "cell_type": "code",
      "source": [
        "!pip install py_essentials\n",
        "!pip install googledrivedownloader\n",
        "!pip install py_essentials"
      ],
      "metadata": {
        "colab": {
          "base_uri": "https://localhost:8080/"
        },
        "id": "fAAIgPRbcdD9",
        "outputId": "4e89f16c-dc9b-48fc-a637-8f5c49f165d2"
      },
      "execution_count": 1,
      "outputs": [
        {
          "output_type": "stream",
          "name": "stdout",
          "text": [
            "Collecting py_essentials\n",
            "  Downloading py_essentials-1.4.12.tar.gz (4.4 kB)\n",
            "  Preparing metadata (setup.py) ... \u001b[?25l\u001b[?25hdone\n",
            "Building wheels for collected packages: py_essentials\n",
            "  Building wheel for py_essentials (setup.py) ... \u001b[?25l\u001b[?25hdone\n",
            "  Created wheel for py_essentials: filename=py_essentials-1.4.12-py3-none-any.whl size=6915 sha256=49f7f99679d81c903acbe7507b19466e81d94f61abf16203cd28f16d434cfac1\n",
            "  Stored in directory: /root/.cache/pip/wheels/d6/e0/3e/3e5d30b3f744bacda773940264b12aaa7473bd934f1df1b2f2\n",
            "Successfully built py_essentials\n",
            "Installing collected packages: py_essentials\n",
            "Successfully installed py_essentials-1.4.12\n",
            "Requirement already satisfied: googledrivedownloader in /usr/local/lib/python3.10/dist-packages (0.4)\n",
            "Requirement already satisfied: py_essentials in /usr/local/lib/python3.10/dist-packages (1.4.12)\n"
          ]
        }
      ]
    },
    {
      "cell_type": "code",
      "source": [
        "import tensorflow as tf\n",
        "\n",
        "from google.colab import drive\n",
        "from google_drive_downloader import GoogleDriveDownloader as gdd\n",
        "import os\n",
        "from pathlib import Path\n",
        "from PIL import Image, ImageEnhance, ImageOps, ImageDraw, ImageFilter\n",
        "from py_essentials import hashing as hs\n",
        "\n",
        "import numpy as np\n",
        "import pandas as pd\n",
        "import matplotlib.pyplot as plt\n",
        "import matplotlib.image as mpimg\n",
        "from tqdm import tqdm\n",
        "import seaborn as sns"
      ],
      "metadata": {
        "id": "mY3pQ-0xcBbT"
      },
      "execution_count": 2,
      "outputs": []
    },
    {
      "cell_type": "markdown",
      "source": [
        "### Загрузка данных"
      ],
      "metadata": {
        "id": "sMNfWeiUc5Tx"
      }
    },
    {
      "cell_type": "code",
      "source": [
        "drive.mount('/content/drive/')"
      ],
      "metadata": {
        "colab": {
          "base_uri": "https://localhost:8080/"
        },
        "id": "ddEK8-adeoDY",
        "outputId": "269f0b6e-b200-4433-e5a8-61d6d96e982e"
      },
      "execution_count": 8,
      "outputs": [
        {
          "output_type": "stream",
          "name": "stdout",
          "text": [
            "Drive already mounted at /content/drive/; to attempt to forcibly remount, call drive.mount(\"/content/drive/\", force_remount=True).\n"
          ]
        }
      ]
    },
    {
      "cell_type": "code",
      "source": [
        "BASE_DIR = Path('/content/drive/MyDrive/Skillbox-Computer-vision-thesis/')\n",
        "BASE_DIR.mkdir(exist_ok=True, parents=True)\n",
        "\n",
        "TEST_KAGGLE_ZIP = Path('/content/drive/MyDrive/Skillbox-Computer-vision-thesis/test_kaggle')\n",
        "TRAIN_ZIP = Path('/content/drive/MyDrive/Skillbox-Computer-vision-thesis/train')\n",
        "PATH_TRAIN = BASE_DIR / 'train'\n",
        "PATH_TEST = BASE_DIR / 'test_kaggle'\n",
        "PATH_PROCESSED = BASE_DIR / 'processed'\n",
        "\n",
        "os.chdir(BASE_DIR)"
      ],
      "metadata": {
        "id": "LwVe7BJMekJE"
      },
      "execution_count": 10,
      "outputs": []
    },
    {
      "cell_type": "code",
      "source": [
        "BASE_DIR = Path('/content/drive/MyDrive/Skillbox-Computer-vision-thesis/')\n",
        "BASE_DIR.mkdir(exist_ok=True, parents=True)\n",
        "\n",
        "TEST_KAGGLE_ZIP = BASE_DIR / 'test_kaggle.zip'\n",
        "TRAIN_ZIP = BASE_DIR / 'train.zip'\n",
        "PATH_TRAIN = BASE_DIR / 'train'\n",
        "PATH_TEST = BASE_DIR / 'test_kaggle'\n",
        "PATH_PROCESSED = BASE_DIR / 'processed'\n",
        "\n",
        "os.chdir(BASE_DIR)\n",
        "\n",
        "gdd.download_file_from_google_drive(file_id='15tHAFc2On8-2s0nGAlfAvr9ltZepgtsU',\n",
        "                                    dest_path=str(TRAIN_ZIP), unzip=False)\n",
        "gdd.download_file_from_google_drive(file_id='1-4z1xlNBWGtOO6cnQUEM1Jo70Z2Zk3NX',\n",
        "                                    dest_path=str(TEST_KAGGLE_ZIP), unzip=False)\n",
        "\n",
        "print(f\"Train file exists: {TRAIN_ZIP.exists()}\")\n",
        "print(f\"Test file exists: {TEST_KAGGLE_ZIP.exists()}\")\n",
        "\n",
        "if TRAIN_ZIP.exists():\n",
        "    os.system(f\"unzip -q {TRAIN_ZIP}\")\n",
        "\n",
        "if TEST_KAGGLE_ZIP.exists():\n",
        "    os.system(f\"unzip -q {TEST_KAGGLE_ZIP}\")"
      ],
      "metadata": {
        "colab": {
          "base_uri": "https://localhost:8080/"
        },
        "id": "dFSPTqx1gwaJ",
        "outputId": "c0ce628a-b8d5-4119-b467-e4625b3d359a"
      },
      "execution_count": 11,
      "outputs": [
        {
          "output_type": "stream",
          "name": "stdout",
          "text": [
            "Downloading 15tHAFc2On8-2s0nGAlfAvr9ltZepgtsU into /content/drive/MyDrive/Skillbox-Computer-vision-thesis/train.zip... Done.\n",
            "Downloading 1-4z1xlNBWGtOO6cnQUEM1Jo70Z2Zk3NX into /content/drive/MyDrive/Skillbox-Computer-vision-thesis/test_kaggle.zip... Done.\n",
            "Train file exists: True\n",
            "Test file exists: True\n"
          ]
        }
      ]
    },
    {
      "cell_type": "markdown",
      "source": [
        "### Первичный анализ данных"
      ],
      "metadata": {
        "id": "CRs5YWWng996"
      }
    },
    {
      "cell_type": "code",
      "source": [
        "total = 0\n",
        "print('\\033[1m' + 'TRAIN:')\n",
        "print('\\033[0m')\n",
        "folders = ([name for name in os.listdir(PATH_TRAIN)\n",
        "            if os.path.isdir(os.path.join(PATH_TRAIN, name))])\n",
        "for folder in folders:\n",
        "    contents = os.listdir(os.path.join(PATH_TRAIN,folder))\n",
        "    print('   Эмоция:',folder,', файлов:',len(contents))\n",
        "    total += len(contents)\n",
        "\n",
        "print('\\nДиректория TRAIN содержит:',total,'файлов / в',len(os.listdir(PATH_TRAIN)),'категориях.\\n')\n",
        "print('\\033[1m' + 'TEST:')\n",
        "print('\\033[0m')\n",
        "print('Директория TEST содержит:',len(os.listdir(PATH_TEST)),'файлов.')"
      ],
      "metadata": {
        "colab": {
          "base_uri": "https://localhost:8080/",
          "height": 245
        },
        "id": "IDgBzHeNhHmW",
        "outputId": "32b5e032-235e-478a-e006-543f6ea45986"
      },
      "execution_count": 12,
      "outputs": [
        {
          "output_type": "stream",
          "name": "stdout",
          "text": [
            "\u001b[1mTRAIN:\n",
            "\u001b[0m\n"
          ]
        },
        {
          "output_type": "error",
          "ename": "FileNotFoundError",
          "evalue": "[Errno 2] No such file or directory: '/content/drive/MyDrive/Skillbox-Computer-vision-thesis/train'",
          "traceback": [
            "\u001b[0;31m---------------------------------------------------------------------------\u001b[0m",
            "\u001b[0;31mFileNotFoundError\u001b[0m                         Traceback (most recent call last)",
            "\u001b[0;32m<ipython-input-12-a2e8e1a2965f>\u001b[0m in \u001b[0;36m<cell line: 4>\u001b[0;34m()\u001b[0m\n\u001b[1;32m      2\u001b[0m \u001b[0mprint\u001b[0m\u001b[0;34m(\u001b[0m\u001b[0;34m'\\033[1m'\u001b[0m \u001b[0;34m+\u001b[0m \u001b[0;34m'TRAIN:'\u001b[0m\u001b[0;34m)\u001b[0m\u001b[0;34m\u001b[0m\u001b[0;34m\u001b[0m\u001b[0m\n\u001b[1;32m      3\u001b[0m \u001b[0mprint\u001b[0m\u001b[0;34m(\u001b[0m\u001b[0;34m'\\033[0m'\u001b[0m\u001b[0;34m)\u001b[0m\u001b[0;34m\u001b[0m\u001b[0;34m\u001b[0m\u001b[0m\n\u001b[0;32m----> 4\u001b[0;31m folders = ([name for name in os.listdir(PATH_TRAIN)\n\u001b[0m\u001b[1;32m      5\u001b[0m             if os.path.isdir(os.path.join(PATH_TRAIN, name))])\n\u001b[1;32m      6\u001b[0m \u001b[0;32mfor\u001b[0m \u001b[0mfolder\u001b[0m \u001b[0;32min\u001b[0m \u001b[0mfolders\u001b[0m\u001b[0;34m:\u001b[0m\u001b[0;34m\u001b[0m\u001b[0;34m\u001b[0m\u001b[0m\n",
            "\u001b[0;31mFileNotFoundError\u001b[0m: [Errno 2] No such file or directory: '/content/drive/MyDrive/Skillbox-Computer-vision-thesis/train'"
          ]
        }
      ]
    },
    {
      "cell_type": "code",
      "source": [
        "idx = 0\n",
        "size_images = dict()\n",
        "for folder in folders:\n",
        "  folder_images = PATH_TRAIN/folder\n",
        "  for dirpath, _, filenames in os.walk(folder_images):\n",
        "    for path_image in filenames:\n",
        "        image = os.path.abspath(os.path.join(dirpath, path_image))\n",
        "        with Image.open(image) as img:\n",
        "            weight = os.path.getsize(image)\n",
        "            width, heigth = img.size\n",
        "            hash_object = hs.fileChecksum(image, \"sha256\")\n",
        "            size_images[idx] = {'weight': weight,\n",
        "                                'width': width,\n",
        "                                'heigth': heigth,\n",
        "                                'emotion' : folder,\n",
        "                                'filename': path_image,\n",
        "                                'hash': hash_object}\n",
        "            idx += 1\n",
        "df_train = pd.DataFrame(size_images).T\n",
        "df_train = df_train.astype({'width': int, 'heigth': int})\n",
        "df_train['notsquare'] = abs(df_train['heigth'] - df_train['width'])\n",
        "\n",
        "df_train.to_csv(BASE_DIR/'df_train.csv', sep=',', index_label='index')"
      ],
      "metadata": {
        "id": "YsxIkPS7hMkj",
        "colab": {
          "base_uri": "https://localhost:8080/",
          "height": 211
        },
        "outputId": "8f902859-ac4d-451c-f2e1-84d0510348db"
      },
      "execution_count": 13,
      "outputs": [
        {
          "output_type": "error",
          "ename": "NameError",
          "evalue": "name 'folders' is not defined",
          "traceback": [
            "\u001b[0;31m---------------------------------------------------------------------------\u001b[0m",
            "\u001b[0;31mNameError\u001b[0m                                 Traceback (most recent call last)",
            "\u001b[0;32m<ipython-input-13-ab7b35ced508>\u001b[0m in \u001b[0;36m<cell line: 3>\u001b[0;34m()\u001b[0m\n\u001b[1;32m      1\u001b[0m \u001b[0midx\u001b[0m \u001b[0;34m=\u001b[0m \u001b[0;36m0\u001b[0m\u001b[0;34m\u001b[0m\u001b[0;34m\u001b[0m\u001b[0m\n\u001b[1;32m      2\u001b[0m \u001b[0msize_images\u001b[0m \u001b[0;34m=\u001b[0m \u001b[0mdict\u001b[0m\u001b[0;34m(\u001b[0m\u001b[0;34m)\u001b[0m\u001b[0;34m\u001b[0m\u001b[0;34m\u001b[0m\u001b[0m\n\u001b[0;32m----> 3\u001b[0;31m \u001b[0;32mfor\u001b[0m \u001b[0mfolder\u001b[0m \u001b[0;32min\u001b[0m \u001b[0mfolders\u001b[0m\u001b[0;34m:\u001b[0m\u001b[0;34m\u001b[0m\u001b[0;34m\u001b[0m\u001b[0m\n\u001b[0m\u001b[1;32m      4\u001b[0m   \u001b[0mfolder_images\u001b[0m \u001b[0;34m=\u001b[0m \u001b[0mPATH_TRAIN\u001b[0m\u001b[0;34m/\u001b[0m\u001b[0mfolder\u001b[0m\u001b[0;34m\u001b[0m\u001b[0;34m\u001b[0m\u001b[0m\n\u001b[1;32m      5\u001b[0m   \u001b[0;32mfor\u001b[0m \u001b[0mdirpath\u001b[0m\u001b[0;34m,\u001b[0m \u001b[0m_\u001b[0m\u001b[0;34m,\u001b[0m \u001b[0mfilenames\u001b[0m \u001b[0;32min\u001b[0m \u001b[0mos\u001b[0m\u001b[0;34m.\u001b[0m\u001b[0mwalk\u001b[0m\u001b[0;34m(\u001b[0m\u001b[0mfolder_images\u001b[0m\u001b[0;34m)\u001b[0m\u001b[0;34m:\u001b[0m\u001b[0;34m\u001b[0m\u001b[0;34m\u001b[0m\u001b[0m\n",
            "\u001b[0;31mNameError\u001b[0m: name 'folders' is not defined"
          ]
        }
      ]
    },
    {
      "cell_type": "code",
      "source": [
        "df_train=pd.read_csv('/content/drive/MyDrive/Skillbox-Computer-vision-thesis/df_train.csv', sep=',')\n",
        "df_train.head()"
      ],
      "metadata": {
        "id": "78OqH3dyhPhm",
        "colab": {
          "base_uri": "https://localhost:8080/",
          "height": 304
        },
        "outputId": "97196e50-26b2-4e46-f944-4bbfa1ef2b00"
      },
      "execution_count": 14,
      "outputs": [
        {
          "output_type": "error",
          "ename": "FileNotFoundError",
          "evalue": "[Errno 2] No such file or directory: '/content/drive/MyDrive/Skillbox-Computer-vision-thesis-Recognizing-human-emotions/df_train.csv'",
          "traceback": [
            "\u001b[0;31m---------------------------------------------------------------------------\u001b[0m",
            "\u001b[0;31mFileNotFoundError\u001b[0m                         Traceback (most recent call last)",
            "\u001b[0;32m<ipython-input-14-72ba55be4b0b>\u001b[0m in \u001b[0;36m<cell line: 1>\u001b[0;34m()\u001b[0m\n\u001b[0;32m----> 1\u001b[0;31m \u001b[0mdf_train\u001b[0m\u001b[0;34m=\u001b[0m\u001b[0mpd\u001b[0m\u001b[0;34m.\u001b[0m\u001b[0mread_csv\u001b[0m\u001b[0;34m(\u001b[0m\u001b[0;34m'/content/drive/MyDrive/Skillbox-Computer-vision-thesis-Recognizing-human-emotions/df_train.csv'\u001b[0m\u001b[0;34m,\u001b[0m \u001b[0msep\u001b[0m\u001b[0;34m=\u001b[0m\u001b[0;34m','\u001b[0m\u001b[0;34m)\u001b[0m\u001b[0;34m\u001b[0m\u001b[0;34m\u001b[0m\u001b[0m\n\u001b[0m\u001b[1;32m      2\u001b[0m \u001b[0mdf_train\u001b[0m\u001b[0;34m.\u001b[0m\u001b[0mhead\u001b[0m\u001b[0;34m(\u001b[0m\u001b[0;34m)\u001b[0m\u001b[0;34m\u001b[0m\u001b[0;34m\u001b[0m\u001b[0m\n",
            "\u001b[0;32m/usr/local/lib/python3.10/dist-packages/pandas/io/parsers/readers.py\u001b[0m in \u001b[0;36mread_csv\u001b[0;34m(filepath_or_buffer, sep, delimiter, header, names, index_col, usecols, dtype, engine, converters, true_values, false_values, skipinitialspace, skiprows, skipfooter, nrows, na_values, keep_default_na, na_filter, verbose, skip_blank_lines, parse_dates, infer_datetime_format, keep_date_col, date_parser, date_format, dayfirst, cache_dates, iterator, chunksize, compression, thousands, decimal, lineterminator, quotechar, quoting, doublequote, escapechar, comment, encoding, encoding_errors, dialect, on_bad_lines, delim_whitespace, low_memory, memory_map, float_precision, storage_options, dtype_backend)\u001b[0m\n\u001b[1;32m    910\u001b[0m     \u001b[0mkwds\u001b[0m\u001b[0;34m.\u001b[0m\u001b[0mupdate\u001b[0m\u001b[0;34m(\u001b[0m\u001b[0mkwds_defaults\u001b[0m\u001b[0;34m)\u001b[0m\u001b[0;34m\u001b[0m\u001b[0;34m\u001b[0m\u001b[0m\n\u001b[1;32m    911\u001b[0m \u001b[0;34m\u001b[0m\u001b[0m\n\u001b[0;32m--> 912\u001b[0;31m     \u001b[0;32mreturn\u001b[0m \u001b[0m_read\u001b[0m\u001b[0;34m(\u001b[0m\u001b[0mfilepath_or_buffer\u001b[0m\u001b[0;34m,\u001b[0m \u001b[0mkwds\u001b[0m\u001b[0;34m)\u001b[0m\u001b[0;34m\u001b[0m\u001b[0;34m\u001b[0m\u001b[0m\n\u001b[0m\u001b[1;32m    913\u001b[0m \u001b[0;34m\u001b[0m\u001b[0m\n\u001b[1;32m    914\u001b[0m \u001b[0;34m\u001b[0m\u001b[0m\n",
            "\u001b[0;32m/usr/local/lib/python3.10/dist-packages/pandas/io/parsers/readers.py\u001b[0m in \u001b[0;36m_read\u001b[0;34m(filepath_or_buffer, kwds)\u001b[0m\n\u001b[1;32m    575\u001b[0m \u001b[0;34m\u001b[0m\u001b[0m\n\u001b[1;32m    576\u001b[0m     \u001b[0;31m# Create the parser.\u001b[0m\u001b[0;34m\u001b[0m\u001b[0;34m\u001b[0m\u001b[0m\n\u001b[0;32m--> 577\u001b[0;31m     \u001b[0mparser\u001b[0m \u001b[0;34m=\u001b[0m \u001b[0mTextFileReader\u001b[0m\u001b[0;34m(\u001b[0m\u001b[0mfilepath_or_buffer\u001b[0m\u001b[0;34m,\u001b[0m \u001b[0;34m**\u001b[0m\u001b[0mkwds\u001b[0m\u001b[0;34m)\u001b[0m\u001b[0;34m\u001b[0m\u001b[0;34m\u001b[0m\u001b[0m\n\u001b[0m\u001b[1;32m    578\u001b[0m \u001b[0;34m\u001b[0m\u001b[0m\n\u001b[1;32m    579\u001b[0m     \u001b[0;32mif\u001b[0m \u001b[0mchunksize\u001b[0m \u001b[0;32mor\u001b[0m \u001b[0miterator\u001b[0m\u001b[0;34m:\u001b[0m\u001b[0;34m\u001b[0m\u001b[0;34m\u001b[0m\u001b[0m\n",
            "\u001b[0;32m/usr/local/lib/python3.10/dist-packages/pandas/io/parsers/readers.py\u001b[0m in \u001b[0;36m__init__\u001b[0;34m(self, f, engine, **kwds)\u001b[0m\n\u001b[1;32m   1405\u001b[0m \u001b[0;34m\u001b[0m\u001b[0m\n\u001b[1;32m   1406\u001b[0m         \u001b[0mself\u001b[0m\u001b[0;34m.\u001b[0m\u001b[0mhandles\u001b[0m\u001b[0;34m:\u001b[0m \u001b[0mIOHandles\u001b[0m \u001b[0;34m|\u001b[0m \u001b[0;32mNone\u001b[0m \u001b[0;34m=\u001b[0m \u001b[0;32mNone\u001b[0m\u001b[0;34m\u001b[0m\u001b[0;34m\u001b[0m\u001b[0m\n\u001b[0;32m-> 1407\u001b[0;31m         \u001b[0mself\u001b[0m\u001b[0;34m.\u001b[0m\u001b[0m_engine\u001b[0m \u001b[0;34m=\u001b[0m \u001b[0mself\u001b[0m\u001b[0;34m.\u001b[0m\u001b[0m_make_engine\u001b[0m\u001b[0;34m(\u001b[0m\u001b[0mf\u001b[0m\u001b[0;34m,\u001b[0m \u001b[0mself\u001b[0m\u001b[0;34m.\u001b[0m\u001b[0mengine\u001b[0m\u001b[0;34m)\u001b[0m\u001b[0;34m\u001b[0m\u001b[0;34m\u001b[0m\u001b[0m\n\u001b[0m\u001b[1;32m   1408\u001b[0m \u001b[0;34m\u001b[0m\u001b[0m\n\u001b[1;32m   1409\u001b[0m     \u001b[0;32mdef\u001b[0m \u001b[0mclose\u001b[0m\u001b[0;34m(\u001b[0m\u001b[0mself\u001b[0m\u001b[0;34m)\u001b[0m \u001b[0;34m->\u001b[0m \u001b[0;32mNone\u001b[0m\u001b[0;34m:\u001b[0m\u001b[0;34m\u001b[0m\u001b[0;34m\u001b[0m\u001b[0m\n",
            "\u001b[0;32m/usr/local/lib/python3.10/dist-packages/pandas/io/parsers/readers.py\u001b[0m in \u001b[0;36m_make_engine\u001b[0;34m(self, f, engine)\u001b[0m\n\u001b[1;32m   1659\u001b[0m                 \u001b[0;32mif\u001b[0m \u001b[0;34m\"b\"\u001b[0m \u001b[0;32mnot\u001b[0m \u001b[0;32min\u001b[0m \u001b[0mmode\u001b[0m\u001b[0;34m:\u001b[0m\u001b[0;34m\u001b[0m\u001b[0;34m\u001b[0m\u001b[0m\n\u001b[1;32m   1660\u001b[0m                     \u001b[0mmode\u001b[0m \u001b[0;34m+=\u001b[0m \u001b[0;34m\"b\"\u001b[0m\u001b[0;34m\u001b[0m\u001b[0;34m\u001b[0m\u001b[0m\n\u001b[0;32m-> 1661\u001b[0;31m             self.handles = get_handle(\n\u001b[0m\u001b[1;32m   1662\u001b[0m                 \u001b[0mf\u001b[0m\u001b[0;34m,\u001b[0m\u001b[0;34m\u001b[0m\u001b[0;34m\u001b[0m\u001b[0m\n\u001b[1;32m   1663\u001b[0m                 \u001b[0mmode\u001b[0m\u001b[0;34m,\u001b[0m\u001b[0;34m\u001b[0m\u001b[0;34m\u001b[0m\u001b[0m\n",
            "\u001b[0;32m/usr/local/lib/python3.10/dist-packages/pandas/io/common.py\u001b[0m in \u001b[0;36mget_handle\u001b[0;34m(path_or_buf, mode, encoding, compression, memory_map, is_text, errors, storage_options)\u001b[0m\n\u001b[1;32m    857\u001b[0m         \u001b[0;32mif\u001b[0m \u001b[0mioargs\u001b[0m\u001b[0;34m.\u001b[0m\u001b[0mencoding\u001b[0m \u001b[0;32mand\u001b[0m \u001b[0;34m\"b\"\u001b[0m \u001b[0;32mnot\u001b[0m \u001b[0;32min\u001b[0m \u001b[0mioargs\u001b[0m\u001b[0;34m.\u001b[0m\u001b[0mmode\u001b[0m\u001b[0;34m:\u001b[0m\u001b[0;34m\u001b[0m\u001b[0;34m\u001b[0m\u001b[0m\n\u001b[1;32m    858\u001b[0m             \u001b[0;31m# Encoding\u001b[0m\u001b[0;34m\u001b[0m\u001b[0;34m\u001b[0m\u001b[0m\n\u001b[0;32m--> 859\u001b[0;31m             handle = open(\n\u001b[0m\u001b[1;32m    860\u001b[0m                 \u001b[0mhandle\u001b[0m\u001b[0;34m,\u001b[0m\u001b[0;34m\u001b[0m\u001b[0;34m\u001b[0m\u001b[0m\n\u001b[1;32m    861\u001b[0m                 \u001b[0mioargs\u001b[0m\u001b[0;34m.\u001b[0m\u001b[0mmode\u001b[0m\u001b[0;34m,\u001b[0m\u001b[0;34m\u001b[0m\u001b[0;34m\u001b[0m\u001b[0m\n",
            "\u001b[0;31mFileNotFoundError\u001b[0m: [Errno 2] No such file or directory: '/content/drive/MyDrive/Skillbox-Computer-vision-thesis-Recognizing-human-emotions/df_train.csv'"
          ]
        }
      ]
    },
    {
      "cell_type": "markdown",
      "source": [
        "### Визуализация данных"
      ],
      "metadata": {
        "id": "aBx_b8vNzM-o"
      }
    },
    {
      "cell_type": "code",
      "source": [
        "sns.histplot(df_train['heigth'])\n",
        "plt.title('Гистограмма размеров изображений набора TRAIN')\n",
        "\n",
        "print(\"Базовые метрики размеров изображений набора TRAIN:\")\n",
        "print(df_train['heigth'].describe())\n",
        "print(\"------------------------------------\")\n",
        "\n",
        "print(\"Самые популярные значения метрики, топ 5\")\n",
        "print(df_train['heigth'].value_counts().nlargest(5))\n",
        "print(\"------------------------------------\")\n",
        "print('\\nВсе изображения имеют квадратную форму, кроме',df_train[df_train['notsquare'] != 0]['notsquare'].count(),'шт:')\n",
        "df_train[df_train['notsquare'] != 0].sort_values('notsquare', ascending = False).head()"
      ],
      "metadata": {
        "id": "14hd7ELUhTbL"
      },
      "execution_count": null,
      "outputs": []
    },
    {
      "cell_type": "code",
      "source": [
        "image_list = df_train[df_train['notsquare'] != 0].sort_values('notsquare', ascending = False)['filename'].tolist()\n",
        "emotion_list = df_train[df_train['notsquare'] != 0].sort_values('notsquare', ascending = False)['emotion'].tolist()\n",
        "plt.figure(figsize=(10,6))\n",
        "\n",
        "for i in range(6):\n",
        "    plt.subplot(2,3, i+1)\n",
        "    plt.xticks([])\n",
        "    plt.yticks([])\n",
        "    plt.title(emotion_list[i] + str('/') + image_list[i])\n",
        "    plt.grid(False)\n",
        "    image_path = str(PATH_TRAIN) + str('/') + str(emotion_list[i]) + str('/') + str(image_list[i])\n",
        "    img = mpimg.imread(image_path)\n",
        "    plt.imshow(img, cmap=plt.cm.gray)"
      ],
      "metadata": {
        "id": "4cfyvxVkhVkb"
      },
      "execution_count": null,
      "outputs": []
    },
    {
      "cell_type": "code",
      "source": [
        "df_train = pd.read_csv(BASE_DIR/'df_train.csv', sep=',', index_col='index')\n",
        "df_train_group = df_train.groupby('emotion').agg({'filename': 'count'}).sort_values('filename', ascending = True)\n",
        "df_train_group['emotion'] = df_train_group.index\n",
        "ax = df_train_group[['emotion','filename']].plot(kind='bar', title =\"Emotion\",\n",
        "                                                      figsize=(10, 5), legend=False, rot = 45,\n",
        "                                                      fontsize = 10, color = 'lightgreen',\n",
        "                                                      edgecolor = 'darkblue',linewidth = 1)\n",
        "ax.set_xlabel(\"Emotion\", fontsize=12)\n",
        "ax.set_ylabel(\"Count\", fontsize=12)\n",
        "ax.grid()\n",
        "plt.show()"
      ],
      "metadata": {
        "id": "P0vKJtJbhZx7"
      },
      "execution_count": null,
      "outputs": []
    },
    {
      "cell_type": "code",
      "source": [
        "folder_images = PATH_TEST\n",
        "size_images = dict()\n",
        "\n",
        "for dirpath, _, filenames in os.walk(folder_images):\n",
        "    for path_image in filenames:\n",
        "        image = os.path.abspath(os.path.join(dirpath, path_image))\n",
        "        with Image.open(image) as img:\n",
        "            weight = os.path.getsize(image)\n",
        "            width, heigth = img.size\n",
        "            size_images[path_image] = {'weight': weight, 'width': width, 'heigth': heigth}\n",
        "\n",
        "df_test = pd.DataFrame(size_images).T\n",
        "df_test['notsquare'] = abs(df_test['heigth'] - df_test['width'])\n",
        "df_test['image_path'] = df_test.index\n",
        "#сохраним полученный датафрейм в csv-файл\n",
        "df_test.to_csv(BASE_DIR/'df_test.csv', sep=',', index_label='index')"
      ],
      "metadata": {
        "id": "JtIIf7ohhbhi"
      },
      "execution_count": null,
      "outputs": []
    },
    {
      "cell_type": "code",
      "source": [
        "df_test=pd.read_csv('/content/drive/MyDrive/Skillbox-Computer-vision-thesis/df_test.csv', sep=',')\n",
        "df_test.head()"
      ],
      "metadata": {
        "id": "gSsY4D-Nhdnr"
      },
      "execution_count": null,
      "outputs": []
    },
    {
      "cell_type": "code",
      "source": [
        "sns.histplot(df_test['heigth'])\n",
        "plt.title('Гистограмма размеров изображений тестового набора')\n",
        "\n",
        "print(\"Базовые метрики изображений ТЕСТового набора:\")\n",
        "print(df_test['heigth'].describe())\n",
        "print(\"------------------------------------\")\n",
        "\n",
        "print(\"Самые популярные значения метрики, топ 5\")\n",
        "print(df_test['heigth'].value_counts().nlargest(5))\n",
        "print(\"------------------------------------\")\n",
        "print('\\nВсе изображения имеют квадратную форму, кроме',df_test[df_test['notsquare'] != 0]['notsquare'].count(),'- х:')\n",
        "print(*df_test[df_test['notsquare'] != 0].index.tolist(),sep=', ',end='\\n\\n')"
      ],
      "metadata": {
        "id": "R_EzECQHhhPb"
      },
      "execution_count": null,
      "outputs": []
    },
    {
      "cell_type": "markdown",
      "source": [
        "### Преобразование данных"
      ],
      "metadata": {
        "id": "nvEhhsE4hoVW"
      }
    },
    {
      "cell_type": "code",
      "source": [
        "BASE_DIR = Path('/content/drive/MyDrive/Skillbox-Computer-vision-thesis/')\n",
        "BASE_DIR.mkdir(exist_ok=True, parents=True)\n",
        "df_train = pd.read_csv(BASE_DIR/'df_train.csv', sep=',', index_col='index')"
      ],
      "metadata": {
        "id": "Zl_8gog_hruw",
        "colab": {
          "base_uri": "https://localhost:8080/",
          "height": 370
        },
        "outputId": "e91ac508-9bbc-4b5d-cf33-6c4d78bf6474"
      },
      "execution_count": null,
      "outputs": [
        {
          "output_type": "error",
          "ename": "FileNotFoundError",
          "evalue": "[Errno 2] No such file or directory: '/content/drive/MyDrive/Skillbox-Computer-vision-thesis-Recognizing-human-emotions/df_train.csv'",
          "traceback": [
            "\u001b[0;31m---------------------------------------------------------------------------\u001b[0m",
            "\u001b[0;31mFileNotFoundError\u001b[0m                         Traceback (most recent call last)",
            "\u001b[0;32m<ipython-input-11-93324a6acdbd>\u001b[0m in \u001b[0;36m<cell line: 3>\u001b[0;34m()\u001b[0m\n\u001b[1;32m      1\u001b[0m \u001b[0mBASE_DIR\u001b[0m \u001b[0;34m=\u001b[0m \u001b[0mPath\u001b[0m\u001b[0;34m(\u001b[0m\u001b[0;34m'/content/drive/MyDrive/Skillbox-Computer-vision-thesis-Recognizing-human-emotions/'\u001b[0m\u001b[0;34m)\u001b[0m\u001b[0;34m\u001b[0m\u001b[0;34m\u001b[0m\u001b[0m\n\u001b[1;32m      2\u001b[0m \u001b[0mBASE_DIR\u001b[0m\u001b[0;34m.\u001b[0m\u001b[0mmkdir\u001b[0m\u001b[0;34m(\u001b[0m\u001b[0mexist_ok\u001b[0m\u001b[0;34m=\u001b[0m\u001b[0;32mTrue\u001b[0m\u001b[0;34m,\u001b[0m \u001b[0mparents\u001b[0m\u001b[0;34m=\u001b[0m\u001b[0;32mTrue\u001b[0m\u001b[0;34m)\u001b[0m\u001b[0;34m\u001b[0m\u001b[0;34m\u001b[0m\u001b[0m\n\u001b[0;32m----> 3\u001b[0;31m \u001b[0mdf_train\u001b[0m \u001b[0;34m=\u001b[0m \u001b[0mpd\u001b[0m\u001b[0;34m.\u001b[0m\u001b[0mread_csv\u001b[0m\u001b[0;34m(\u001b[0m\u001b[0mBASE_DIR\u001b[0m\u001b[0;34m/\u001b[0m\u001b[0;34m'df_train.csv'\u001b[0m\u001b[0;34m,\u001b[0m \u001b[0msep\u001b[0m\u001b[0;34m=\u001b[0m\u001b[0;34m','\u001b[0m\u001b[0;34m,\u001b[0m \u001b[0mindex_col\u001b[0m\u001b[0;34m=\u001b[0m\u001b[0;34m'index'\u001b[0m\u001b[0;34m)\u001b[0m\u001b[0;34m\u001b[0m\u001b[0;34m\u001b[0m\u001b[0m\n\u001b[0m",
            "\u001b[0;32m/usr/local/lib/python3.10/dist-packages/pandas/io/parsers/readers.py\u001b[0m in \u001b[0;36mread_csv\u001b[0;34m(filepath_or_buffer, sep, delimiter, header, names, index_col, usecols, dtype, engine, converters, true_values, false_values, skipinitialspace, skiprows, skipfooter, nrows, na_values, keep_default_na, na_filter, verbose, skip_blank_lines, parse_dates, infer_datetime_format, keep_date_col, date_parser, date_format, dayfirst, cache_dates, iterator, chunksize, compression, thousands, decimal, lineterminator, quotechar, quoting, doublequote, escapechar, comment, encoding, encoding_errors, dialect, on_bad_lines, delim_whitespace, low_memory, memory_map, float_precision, storage_options, dtype_backend)\u001b[0m\n\u001b[1;32m    910\u001b[0m     \u001b[0mkwds\u001b[0m\u001b[0;34m.\u001b[0m\u001b[0mupdate\u001b[0m\u001b[0;34m(\u001b[0m\u001b[0mkwds_defaults\u001b[0m\u001b[0;34m)\u001b[0m\u001b[0;34m\u001b[0m\u001b[0;34m\u001b[0m\u001b[0m\n\u001b[1;32m    911\u001b[0m \u001b[0;34m\u001b[0m\u001b[0m\n\u001b[0;32m--> 912\u001b[0;31m     \u001b[0;32mreturn\u001b[0m \u001b[0m_read\u001b[0m\u001b[0;34m(\u001b[0m\u001b[0mfilepath_or_buffer\u001b[0m\u001b[0;34m,\u001b[0m \u001b[0mkwds\u001b[0m\u001b[0;34m)\u001b[0m\u001b[0;34m\u001b[0m\u001b[0;34m\u001b[0m\u001b[0m\n\u001b[0m\u001b[1;32m    913\u001b[0m \u001b[0;34m\u001b[0m\u001b[0m\n\u001b[1;32m    914\u001b[0m \u001b[0;34m\u001b[0m\u001b[0m\n",
            "\u001b[0;32m/usr/local/lib/python3.10/dist-packages/pandas/io/parsers/readers.py\u001b[0m in \u001b[0;36m_read\u001b[0;34m(filepath_or_buffer, kwds)\u001b[0m\n\u001b[1;32m    575\u001b[0m \u001b[0;34m\u001b[0m\u001b[0m\n\u001b[1;32m    576\u001b[0m     \u001b[0;31m# Create the parser.\u001b[0m\u001b[0;34m\u001b[0m\u001b[0;34m\u001b[0m\u001b[0m\n\u001b[0;32m--> 577\u001b[0;31m     \u001b[0mparser\u001b[0m \u001b[0;34m=\u001b[0m \u001b[0mTextFileReader\u001b[0m\u001b[0;34m(\u001b[0m\u001b[0mfilepath_or_buffer\u001b[0m\u001b[0;34m,\u001b[0m \u001b[0;34m**\u001b[0m\u001b[0mkwds\u001b[0m\u001b[0;34m)\u001b[0m\u001b[0;34m\u001b[0m\u001b[0;34m\u001b[0m\u001b[0m\n\u001b[0m\u001b[1;32m    578\u001b[0m \u001b[0;34m\u001b[0m\u001b[0m\n\u001b[1;32m    579\u001b[0m     \u001b[0;32mif\u001b[0m \u001b[0mchunksize\u001b[0m \u001b[0;32mor\u001b[0m \u001b[0miterator\u001b[0m\u001b[0;34m:\u001b[0m\u001b[0;34m\u001b[0m\u001b[0;34m\u001b[0m\u001b[0m\n",
            "\u001b[0;32m/usr/local/lib/python3.10/dist-packages/pandas/io/parsers/readers.py\u001b[0m in \u001b[0;36m__init__\u001b[0;34m(self, f, engine, **kwds)\u001b[0m\n\u001b[1;32m   1405\u001b[0m \u001b[0;34m\u001b[0m\u001b[0m\n\u001b[1;32m   1406\u001b[0m         \u001b[0mself\u001b[0m\u001b[0;34m.\u001b[0m\u001b[0mhandles\u001b[0m\u001b[0;34m:\u001b[0m \u001b[0mIOHandles\u001b[0m \u001b[0;34m|\u001b[0m \u001b[0;32mNone\u001b[0m \u001b[0;34m=\u001b[0m \u001b[0;32mNone\u001b[0m\u001b[0;34m\u001b[0m\u001b[0;34m\u001b[0m\u001b[0m\n\u001b[0;32m-> 1407\u001b[0;31m         \u001b[0mself\u001b[0m\u001b[0;34m.\u001b[0m\u001b[0m_engine\u001b[0m \u001b[0;34m=\u001b[0m \u001b[0mself\u001b[0m\u001b[0;34m.\u001b[0m\u001b[0m_make_engine\u001b[0m\u001b[0;34m(\u001b[0m\u001b[0mf\u001b[0m\u001b[0;34m,\u001b[0m \u001b[0mself\u001b[0m\u001b[0;34m.\u001b[0m\u001b[0mengine\u001b[0m\u001b[0;34m)\u001b[0m\u001b[0;34m\u001b[0m\u001b[0;34m\u001b[0m\u001b[0m\n\u001b[0m\u001b[1;32m   1408\u001b[0m \u001b[0;34m\u001b[0m\u001b[0m\n\u001b[1;32m   1409\u001b[0m     \u001b[0;32mdef\u001b[0m \u001b[0mclose\u001b[0m\u001b[0;34m(\u001b[0m\u001b[0mself\u001b[0m\u001b[0;34m)\u001b[0m \u001b[0;34m->\u001b[0m \u001b[0;32mNone\u001b[0m\u001b[0;34m:\u001b[0m\u001b[0;34m\u001b[0m\u001b[0;34m\u001b[0m\u001b[0m\n",
            "\u001b[0;32m/usr/local/lib/python3.10/dist-packages/pandas/io/parsers/readers.py\u001b[0m in \u001b[0;36m_make_engine\u001b[0;34m(self, f, engine)\u001b[0m\n\u001b[1;32m   1659\u001b[0m                 \u001b[0;32mif\u001b[0m \u001b[0;34m\"b\"\u001b[0m \u001b[0;32mnot\u001b[0m \u001b[0;32min\u001b[0m \u001b[0mmode\u001b[0m\u001b[0;34m:\u001b[0m\u001b[0;34m\u001b[0m\u001b[0;34m\u001b[0m\u001b[0m\n\u001b[1;32m   1660\u001b[0m                     \u001b[0mmode\u001b[0m \u001b[0;34m+=\u001b[0m \u001b[0;34m\"b\"\u001b[0m\u001b[0;34m\u001b[0m\u001b[0;34m\u001b[0m\u001b[0m\n\u001b[0;32m-> 1661\u001b[0;31m             self.handles = get_handle(\n\u001b[0m\u001b[1;32m   1662\u001b[0m                 \u001b[0mf\u001b[0m\u001b[0;34m,\u001b[0m\u001b[0;34m\u001b[0m\u001b[0;34m\u001b[0m\u001b[0m\n\u001b[1;32m   1663\u001b[0m                 \u001b[0mmode\u001b[0m\u001b[0;34m,\u001b[0m\u001b[0;34m\u001b[0m\u001b[0;34m\u001b[0m\u001b[0m\n",
            "\u001b[0;32m/usr/local/lib/python3.10/dist-packages/pandas/io/common.py\u001b[0m in \u001b[0;36mget_handle\u001b[0;34m(path_or_buf, mode, encoding, compression, memory_map, is_text, errors, storage_options)\u001b[0m\n\u001b[1;32m    857\u001b[0m         \u001b[0;32mif\u001b[0m \u001b[0mioargs\u001b[0m\u001b[0;34m.\u001b[0m\u001b[0mencoding\u001b[0m \u001b[0;32mand\u001b[0m \u001b[0;34m\"b\"\u001b[0m \u001b[0;32mnot\u001b[0m \u001b[0;32min\u001b[0m \u001b[0mioargs\u001b[0m\u001b[0;34m.\u001b[0m\u001b[0mmode\u001b[0m\u001b[0;34m:\u001b[0m\u001b[0;34m\u001b[0m\u001b[0;34m\u001b[0m\u001b[0m\n\u001b[1;32m    858\u001b[0m             \u001b[0;31m# Encoding\u001b[0m\u001b[0;34m\u001b[0m\u001b[0;34m\u001b[0m\u001b[0m\n\u001b[0;32m--> 859\u001b[0;31m             handle = open(\n\u001b[0m\u001b[1;32m    860\u001b[0m                 \u001b[0mhandle\u001b[0m\u001b[0;34m,\u001b[0m\u001b[0;34m\u001b[0m\u001b[0;34m\u001b[0m\u001b[0m\n\u001b[1;32m    861\u001b[0m                 \u001b[0mioargs\u001b[0m\u001b[0;34m.\u001b[0m\u001b[0mmode\u001b[0m\u001b[0;34m,\u001b[0m\u001b[0;34m\u001b[0m\u001b[0;34m\u001b[0m\u001b[0m\n",
            "\u001b[0;31mFileNotFoundError\u001b[0m: [Errno 2] No such file or directory: '/content/drive/MyDrive/Skillbox-Computer-vision-thesis-Recognizing-human-emotions/df_train.csv'"
          ]
        }
      ]
    },
    {
      "cell_type": "code",
      "source": [
        "df_clean = df_train[~df_train.duplicated(subset = ['hash'], keep = 'first')].copy()\n",
        "df_clean = df_clean.groupby('hash').agg({'emotion': 'nunique', 'filename' : 'nunique'})\n",
        "assert sum(set(df_clean.emotion.tolist())) == 1\n",
        "assert sum(set(df_clean.filename.tolist())) == 1\n",
        "print('Дубликаты изображений удалены успешно. Удалено', 50046 - df_clean.shape[0],'записей о файлах.\\n')\n",
        "df_train = df_train.loc[~df_train.duplicated(subset = ['hash'], keep = 'first')]\n",
        "df_train.reset_index(drop=True, inplace=True)\n",
        "df_train.drop(['hash'], axis=1, inplace=True)\n",
        "df_train"
      ],
      "metadata": {
        "id": "_sWD2VkQhwfK"
      },
      "execution_count": null,
      "outputs": []
    },
    {
      "cell_type": "markdown",
      "source": [
        "### Обработка данных"
      ],
      "metadata": {
        "id": "YC4iTtVndGq1"
      }
    },
    {
      "cell_type": "code",
      "source": [
        "import torch\n",
        "import torch.nn as nn\n",
        "import torch.optim as optim\n",
        "import torchvision.transforms as transforms\n",
        "from torch.utils.data import Dataset, DataLoader\n",
        "from torchvision import models\n",
        "import gdown\n",
        "import shutil"
      ],
      "metadata": {
        "id": "5yZ1KhjFdL4k"
      },
      "execution_count": null,
      "outputs": []
    },
    {
      "cell_type": "code",
      "source": [
        "from google.colab import drive\n",
        "drive.mount('/content/drive/')"
      ],
      "metadata": {
        "id": "pE6Q8Fq4dL-w"
      },
      "execution_count": null,
      "outputs": []
    },
    {
      "cell_type": "code",
      "source": [
        "df_train=pd.read_csv('/content/drive/MyDrive/Skillbox-Computer-vision-thesis/df_train.csv', sep=',')\n",
        "df_test=pd.read_csv('/content/drive/MyDrive/Skillbox-Computer-vision-thesis/df_test.csv', sep=',')\n",
        "\n",
        "df_train.head()"
      ],
      "metadata": {
        "id": "BUW5kyfi0Fug"
      },
      "execution_count": null,
      "outputs": []
    },
    {
      "cell_type": "code",
      "source": [
        "df_test.head()"
      ],
      "metadata": {
        "id": "M59NDaaW0Iqn"
      },
      "execution_count": null,
      "outputs": []
    },
    {
      "cell_type": "code",
      "source": [
        "emotion_labels = {\n",
        "    'anger': 0, 'contempt': 1, 'disgust': 2, 'fear': 3, 'happy': 4,\n",
        "    'neutral': 5, 'sad': 6, 'surprise': 7, 'uncertain': 8\n",
        "}"
      ],
      "metadata": {
        "id": "V9d0oFfx0KYH"
      },
      "execution_count": null,
      "outputs": []
    },
    {
      "cell_type": "code",
      "source": [
        "class EmotionDataset(Dataset):\n",
        "    def __init__(self, root_dir, transform=None):\n",
        "        self.root_dir = root_dir\n",
        "        self.transform = transform\n",
        "        self.image_files = []\n",
        "        self.labels = []\n",
        "\n",
        "        for emotion, label in emotion_labels.items():\n",
        "            emotion_dir = os.path.join(root_dir, emotion)\n",
        "            for img_file in os.listdir(emotion_dir):\n",
        "                if img_file.endswith('.jpg'):\n",
        "                    self.image_files.append(os.path.join(emotion_dir, img_file))\n",
        "                    self.labels.append(label)\n",
        "\n",
        "    def __len__(self):\n",
        "        return len(self.image_files)\n",
        "\n",
        "    def __getitem__(self, idx):\n",
        "        img_path = self.image_files[idx]\n",
        "        image = Image.open(img_path).convert(\"RGB\")\n",
        "        if self.transform:\n",
        "            image = self.transform(image)\n",
        "        label = self.labels[idx]\n",
        "        return image, label\n",
        "\n",
        "transform = transforms.Compose([\n",
        "    transforms.Resize((128, 128)),\n",
        "    transforms.ToTensor(),\n",
        "    transforms.Normalize(mean=[0.485, 0.456, 0.406], std=[0.229, 0.224, 0.225])\n",
        "])\n",
        "\n",
        "train_dataset = EmotionDataset(root_dir=\"/content/drive/MyDrive/Skillbox-Computer-vision-thesis/train\", transform=transform)\n",
        "train_loader = DataLoader(train_dataset, batch_size=64, shuffle=True, num_workers=4, pin_memory=True)"
      ],
      "metadata": {
        "id": "ei6TD6Ut0L3S"
      },
      "execution_count": null,
      "outputs": []
    },
    {
      "cell_type": "code",
      "source": [
        "class EmotionClassifier(nn.Module):\n",
        "    def __init__(self):\n",
        "        super(EmotionClassifier, self).__init__()\n",
        "        self.model = models.mobilenet_v2(pretrained=True) # предобученная модель MobileNetV2\n",
        "        self.model.classifier[1] = nn.Linear(self.model.last_channel, 9)\n",
        "\n",
        "    def forward(self, x):\n",
        "        return self.model(x)"
      ],
      "metadata": {
        "id": "BHKIBg490PhH"
      },
      "execution_count": null,
      "outputs": []
    },
    {
      "cell_type": "markdown",
      "source": [
        "### Построение и обучение модели"
      ],
      "metadata": {
        "id": "GPRXEh5U1grM"
      }
    },
    {
      "cell_type": "code",
      "source": [
        "model = EmotionClassifier()\n",
        "criterion = nn.CrossEntropyLoss()\n",
        "optimizer = optim.Adam(model.parameters(), lr=0.001)\n",
        "\n",
        "device = torch.device(\"cuda\" if torch.cuda.is_available() else \"cpu\")\n",
        "model.to(device)"
      ],
      "metadata": {
        "id": "DiH4sQ-X0RCL"
      },
      "execution_count": null,
      "outputs": []
    },
    {
      "cell_type": "code",
      "source": [
        "num_epochs = 3\n",
        "\n",
        "for epoch in tqdm(range(num_epochs)):\n",
        "    model.train()\n",
        "    for images, labels in train_loader:\n",
        "        images, labels = images.to(device, non_blocking=True), labels.to(device, non_blocking=True)\n",
        "        outputs = model(images)\n",
        "        loss = criterion(outputs, labels)\n",
        "        optimizer.zero_grad()\n",
        "        loss.backward()\n",
        "        optimizer.step()"
      ],
      "metadata": {
        "id": "mEBCvSUO0Sa2"
      },
      "execution_count": null,
      "outputs": []
    },
    {
      "cell_type": "code",
      "source": [
        "torch.save(model.state_dict(), \"emotion_classifier_model.pth\")"
      ],
      "metadata": {
        "id": "bk3iZXQI0VH8"
      },
      "execution_count": null,
      "outputs": []
    },
    {
      "cell_type": "code",
      "source": [
        "class TestDataset(Dataset):\n",
        "    def __init__(self, root_dir, transform=None):\n",
        "        self.root_dir = root_dir\n",
        "        self.transform = transform\n",
        "        self.image_files = [f for f in os.listdir(root_dir) if f.endswith('.jpg')]\n",
        "\n",
        "    def __len__(self):\n",
        "        return len(self.image_files)\n",
        "\n",
        "    def __getitem__(self, idx):\n",
        "        img_path = os.path.join(self.root_dir, self.image_files[idx])\n",
        "        image = Image.open(img_path).convert(\"RGB\")\n",
        "        if self.transform:\n",
        "            image = self.transform(image)\n",
        "        return image, self.image_files[idx]"
      ],
      "metadata": {
        "id": "cql9y6qc0W-n"
      },
      "execution_count": null,
      "outputs": []
    },
    {
      "cell_type": "code",
      "source": [
        "test_dataset = TestDataset(root_dir=\"/content/drive/MyDrive/Skillbox-Computer-vision-thesiss/test_kaggle\", transform=transform)\n",
        "test_loader = DataLoader(test_dataset, batch_size=64, shuffle=False, num_workers=4, pin_memory=True)"
      ],
      "metadata": {
        "id": "eCLBgJzO0Yu9"
      },
      "execution_count": null,
      "outputs": []
    },
    {
      "cell_type": "markdown",
      "source": [
        "### Оценка модели и тестирование"
      ],
      "metadata": {
        "id": "mPECsWhL1wTy"
      }
    },
    {
      "cell_type": "code",
      "source": [
        "model.eval()\n",
        "predictions = []\n",
        "with torch.no_grad():\n",
        "    for images, image_files in test_loader:\n",
        "        images = images.to(device, non_blocking=True)\n",
        "        outputs = model(images)\n",
        "        _, predicted = torch.max(outputs, 1)\n",
        "        predictions.extend(zip(image_files, predicted.cpu().numpy()))"
      ],
      "metadata": {
        "id": "7lhs74wZ0aV2"
      },
      "execution_count": null,
      "outputs": []
    },
    {
      "cell_type": "code",
      "source": [
        "reverse_emotion_labels = {v: k for k, v in emotion_labels.items()}\n",
        "predictions = [(img, reverse_emotion_labels[pred]) for img, pred in predictions]"
      ],
      "metadata": {
        "id": "jfuxXL3f0cRE"
      },
      "execution_count": null,
      "outputs": []
    },
    {
      "cell_type": "markdown",
      "source": [
        "### Формирование файла-решения"
      ],
      "metadata": {
        "id": "KLYO8rfvdcPA"
      }
    },
    {
      "cell_type": "code",
      "source": [
        "submission_df = pd.DataFrame(predictions, columns=['image_path', 'emotion'])\n",
        "submission_df.to_csv(\"/content/drive/MyDrive/Skillbox-Computer-vision-thesis/submission.csv\", index=False)\n",
        "print(submission_df.head())"
      ],
      "metadata": {
        "id": "Ab7ywcfxdhK0"
      },
      "execution_count": null,
      "outputs": []
    }
  ]
}